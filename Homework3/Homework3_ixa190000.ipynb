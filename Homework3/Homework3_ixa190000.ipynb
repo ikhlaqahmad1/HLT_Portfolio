{
  "nbformat": 4,
  "nbformat_minor": 0,
  "metadata": {
    "colab": {
      "provenance": [],
      "collapsed_sections": [
        "PNUpo2VBbMv1",
        "Lq6CXAOtRLCo",
        "7OT-Y7SbRiwb",
        "pdgimRcWZ6Zl",
        "AM8DKAylbN0m",
        "f4Ls6Tt5AxZ0",
        "bnqNJNxnJJ5b"
      ]
    },
    "kernelspec": {
      "name": "python3",
      "display_name": "Python 3"
    },
    "language_info": {
      "name": "python"
    }
  },
  "cells": [
    {
      "cell_type": "markdown",
      "source": [
        "# **WordNet**\n",
        "WordNet is a lexical database and software system developed at Princeton University that provides a large, organized collection of words and their meanings. WordNet consists of a set of interlinked lexical synsets, which are groups of synonyms that represent a single concept. "
      ],
      "metadata": {
        "id": "PNUpo2VBbMv1"
      }
    },
    {
      "cell_type": "markdown",
      "source": [
        "First we need to import nltk and WordNet\n"
      ],
      "metadata": {
        "id": "noGTncrQBkHV"
      }
    },
    {
      "cell_type": "code",
      "execution_count": 307,
      "metadata": {
        "id": "CJV_f9lWZPKN"
      },
      "outputs": [],
      "source": [
        "# Python imports\n",
        "import nltk\n",
        "from nltk.corpus import wordnet as wn"
      ]
    },
    {
      "cell_type": "markdown",
      "source": [
        "**Noun synset**"
      ],
      "metadata": {
        "id": "JNebqiGCetby"
      }
    },
    {
      "cell_type": "markdown",
      "source": [
        "    The code below gets all the synsets of 'ball'.\n",
        "    Each synset has an ID such as 'ball.n.01'. The form of the ID is: word.pos.nn"
      ],
      "metadata": {
        "id": "gW3DiyrtCjXb"
      }
    },
    {
      "cell_type": "code",
      "source": [
        "print(wn.synsets('ball'))"
      ],
      "metadata": {
        "colab": {
          "base_uri": "https://localhost:8080/",
          "height": 0
        },
        "id": "K_ja4T6GaVBt",
        "outputId": "cebfb591-5732-48e2-a391-290077304d3e"
      },
      "execution_count": 308,
      "outputs": [
        {
          "output_type": "stream",
          "name": "stdout",
          "text": [
            "[Synset('ball.n.01'), Synset('musket_ball.n.01'), Synset('ball.n.03'), Synset('ball.n.04'), Synset('testis.n.01'), Synset('ball.n.06'), Synset('ball.n.07'), Synset('ball.n.08'), Synset('ball.n.09'), Synset('ball.n.10'), Synset('ball.n.11'), Synset('ball.n.12'), Synset('ball.v.01')]\n"
          ]
        }
      ]
    },
    {
      "cell_type": "markdown",
      "source": [
        "    Here, I have selected 'ball.n.01' as my choice of synset to extract different parts of linguistics\n",
        "\n"
      ],
      "metadata": {
        "id": "t5g8eCCSdETb"
      }
    },
    {
      "cell_type": "markdown",
      "source": [
        "Definition of the first synset 'ball.n.01'"
      ],
      "metadata": {
        "id": "0ZsxnLpgGMLU"
      }
    },
    {
      "cell_type": "code",
      "source": [
        "wn.synset('ball.n.01').definition()"
      ],
      "metadata": {
        "colab": {
          "base_uri": "https://localhost:8080/",
          "height": 0
        },
        "id": "4JqT9-kgdHnQ",
        "outputId": "cd1860ee-2d4f-4201-f858-91b250779258"
      },
      "execution_count": 309,
      "outputs": [
        {
          "output_type": "execute_result",
          "data": {
            "text/plain": [
              "'round object that is hit or thrown or kicked in games'"
            ],
            "application/vnd.google.colaboratory.intrinsic+json": {
              "type": "string"
            }
          },
          "metadata": {},
          "execution_count": 309
        }
      ]
    },
    {
      "cell_type": "markdown",
      "source": [
        "Usage examples of the synset 'ball.n.01'\n"
      ],
      "metadata": {
        "id": "H0dcBInyGZwA"
      }
    },
    {
      "cell_type": "code",
      "source": [
        "wn.synset('ball.n.01').examples()"
      ],
      "metadata": {
        "colab": {
          "base_uri": "https://localhost:8080/",
          "height": 0
        },
        "id": "octunv_Dh9or",
        "outputId": "1b3bd6a4-983d-4c59-d76d-b215bdcfb5de"
      },
      "execution_count": 310,
      "outputs": [
        {
          "output_type": "execute_result",
          "data": {
            "text/plain": [
              "['the ball travelled 90 mph on his serve',\n",
              " 'the mayor threw out the first ball',\n",
              " 'the ball rolled into the corner pocket']"
            ]
          },
          "metadata": {},
          "execution_count": 310
        }
      ]
    },
    {
      "cell_type": "markdown",
      "source": [
        "# WordNet Hierarchy\n",
        "\n",
        "Synsets are organized in a hierarchichal relations. For example:\n",
        "*  hypernym (higher) -- canine is a hypernym of dog\n",
        "*  hyponym (lower) -- a dog is a hyponym of canine\n",
        "*  meronym (part of) -- wheel is a meronym of car\n",
        "*  holonym (whole) -- car is a holonym of wheel\n",
        "\n",
        "This hierarchy can be traversed."
      ],
      "metadata": {
        "id": "78d_0tc6Iup-"
      }
    },
    {
      "cell_type": "markdown",
      "source": [
        "**WordNet Hierarchy (Noun)**"
      ],
      "metadata": {
        "id": "5VAYVPNm6iPU"
      }
    },
    {
      "cell_type": "markdown",
      "source": [
        "Traversing the hierarchy using the synset 'ball.n.01'\n",
        "\n",
        "    Here, the hierarchy is traversed to the top from the bottom. The synset\n",
        "    'ball.n.1' is at the bottom, and the code traverses and print every synset\n",
        "    until it reaches the top. The hierarchy for nouns has 'entity.n.01' at the top.\n",
        "\n"
      ],
      "metadata": {
        "id": "dY35XKMHwiJZ"
      }
    },
    {
      "cell_type": "code",
      "source": [
        "ball = wn.synset('ball.n.01')\n",
        "top = wn.synset('entity.n.01')\n",
        "hyp = ball.hypernyms()[0]\n",
        "while hyp:\n",
        "  print(hyp)\n",
        "  if hyp == top:\n",
        "    break\n",
        "  if hyp.hypernyms():\n",
        "    hyp = hyp.hypernyms()[0]\n"
      ],
      "metadata": {
        "colab": {
          "base_uri": "https://localhost:8080/",
          "height": 0
        },
        "id": "cKKBns9kwrgp",
        "outputId": "fc84bc8c-59e1-467e-e60e-6ff41df56c4e"
      },
      "execution_count": 311,
      "outputs": [
        {
          "output_type": "stream",
          "name": "stdout",
          "text": [
            "Synset('game_equipment.n.01')\n",
            "Synset('equipment.n.01')\n",
            "Synset('instrumentality.n.03')\n",
            "Synset('artifact.n.01')\n",
            "Synset('whole.n.02')\n",
            "Synset('object.n.01')\n",
            "Synset('physical_entity.n.01')\n",
            "Synset('entity.n.01')\n"
          ]
        }
      ]
    },
    {
      "cell_type": "markdown",
      "source": [
        "**Hyponyms**\n",
        "\n",
        "    Hyponyms are the words at the lower level of hierarchy of a general word. In other words, a more specific word is a hyponym of that word For example:\n",
        "    *   Baseball is a hyponym of a ball, a more general word.\n",
        "\n",
        "\n",
        "\n",
        "\n"
      ],
      "metadata": {
        "id": "Lq6CXAOtRLCo"
      }
    },
    {
      "cell_type": "code",
      "source": [
        "wn.synset('ball.n.01').hyponyms()"
      ],
      "metadata": {
        "id": "PcXbIgJrdocU",
        "colab": {
          "base_uri": "https://localhost:8080/",
          "height": 0
        },
        "outputId": "9d5e4b38-7055-491e-b7ee-ff3f3a01a85a"
      },
      "execution_count": 312,
      "outputs": [
        {
          "output_type": "execute_result",
          "data": {
            "text/plain": [
              "[Synset('baseball.n.02'),\n",
              " Synset('basketball.n.02'),\n",
              " Synset('billiard_ball.n.01'),\n",
              " Synset('bocce_ball.n.01'),\n",
              " Synset('bowl.n.07'),\n",
              " Synset('bowling_ball.n.01'),\n",
              " Synset('cricket_ball.n.01'),\n",
              " Synset('croquet_ball.n.01'),\n",
              " Synset('field_hockey_ball.n.01'),\n",
              " Synset('football.n.02'),\n",
              " Synset('golf_ball.n.01'),\n",
              " Synset('handball.n.01'),\n",
              " Synset('jack.n.05'),\n",
              " Synset('lacrosse_ball.n.01'),\n",
              " Synset('marble.n.02'),\n",
              " Synset('medicine_ball.n.01'),\n",
              " Synset('ninepin_ball.n.01'),\n",
              " Synset('ping-pong_ball.n.01'),\n",
              " Synset('polo_ball.n.01'),\n",
              " Synset('pool_ball.n.01'),\n",
              " Synset('punching_bag.n.02'),\n",
              " Synset('racquetball.n.01'),\n",
              " Synset('roulette_ball.n.01'),\n",
              " Synset('rugby_ball.n.01'),\n",
              " Synset('soccer_ball.n.01'),\n",
              " Synset('softball.n.01'),\n",
              " Synset('squash_ball.n.01'),\n",
              " Synset('tennis_ball.n.01'),\n",
              " Synset('volleyball.n.02'),\n",
              " Synset('wiffle.n.01')]"
            ]
          },
          "metadata": {},
          "execution_count": 312
        }
      ]
    },
    {
      "cell_type": "markdown",
      "source": [
        "**Hypernyms**\n",
        "\n",
        "    Hypernyms are at higher hierarcial level. In other words, hypernyms are more gerneral words than specific words. For example:\n",
        "    *  A baseball can be denoted as a general word ball."
      ],
      "metadata": {
        "id": "7OT-Y7SbRiwb"
      }
    },
    {
      "cell_type": "code",
      "source": [
        "wn.synset('baseball.n.02').hypernyms()"
      ],
      "metadata": {
        "colab": {
          "base_uri": "https://localhost:8080/",
          "height": 0
        },
        "id": "yT6ZixtTg2QK",
        "outputId": "705f0789-a8bf-4d39-d12b-e9ea84b179c1"
      },
      "execution_count": 313,
      "outputs": [
        {
          "output_type": "execute_result",
          "data": {
            "text/plain": [
              "[Synset('ball.n.01'), Synset('baseball_equipment.n.01')]"
            ]
          },
          "metadata": {},
          "execution_count": 313
        }
      ]
    },
    {
      "cell_type": "markdown",
      "source": [
        "**Holonyms**"
      ],
      "metadata": {
        "id": "Dw0Q4CQYTuew"
      }
    },
    {
      "cell_type": "markdown",
      "source": [
        "    Holonnyms are either members or part of something whole. For example:\n",
        "    *  A leg a part of the body\n",
        "    *  A lion is a member of the pride\n"
      ],
      "metadata": {
        "id": "_smwoK6eTyiG"
      }
    },
    {
      "cell_type": "code",
      "source": [
        "wn.synset('leg.n.01').part_holonyms()"
      ],
      "metadata": {
        "colab": {
          "base_uri": "https://localhost:8080/",
          "height": 0
        },
        "id": "O_IqNEtwiM10",
        "outputId": "b09d3cb6-9bc9-4d40-a5bf-730c12ebeccc"
      },
      "execution_count": 314,
      "outputs": [
        {
          "output_type": "execute_result",
          "data": {
            "text/plain": [
              "[Synset('body.n.01')]"
            ]
          },
          "metadata": {},
          "execution_count": 314
        }
      ]
    },
    {
      "cell_type": "code",
      "source": [
        "wn.synset('lion.n.01').member_holonyms()"
      ],
      "metadata": {
        "colab": {
          "base_uri": "https://localhost:8080/",
          "height": 0
        },
        "id": "nVi-Nw21ZoTL",
        "outputId": "3b8c12cf-a252-4a9b-949a-51a637b96335"
      },
      "execution_count": 315,
      "outputs": [
        {
          "output_type": "execute_result",
          "data": {
            "text/plain": [
              "[Synset('panthera.n.01'), Synset('pride.n.04')]"
            ]
          },
          "metadata": {},
          "execution_count": 315
        }
      ]
    },
    {
      "cell_type": "markdown",
      "source": [
        "**Meronyms**"
      ],
      "metadata": {
        "id": "pdgimRcWZ6Zl"
      }
    },
    {
      "cell_type": "markdown",
      "source": [
        "    Meronyms are a specific thing from the whole. For example:\n",
        "    *  A human body has many parts\n",
        "    *  A pride has many lions\n",
        "\n"
      ],
      "metadata": {
        "id": "2eeNnSWQZ_V0"
      }
    },
    {
      "cell_type": "code",
      "source": [
        "wn.synset('body.n.01').part_meronyms()"
      ],
      "metadata": {
        "colab": {
          "base_uri": "https://localhost:8080/",
          "height": 0
        },
        "id": "ZPcD0iYOaxvz",
        "outputId": "c0189ade-fec5-4308-cf86-caad9e76828e"
      },
      "execution_count": 316,
      "outputs": [
        {
          "output_type": "execute_result",
          "data": {
            "text/plain": [
              "[Synset('arm.n.01'),\n",
              " Synset('articulatory_system.n.01'),\n",
              " Synset('body_substance.n.01'),\n",
              " Synset('cavity.n.04'),\n",
              " Synset('circulatory_system.n.01'),\n",
              " Synset('crotch.n.02'),\n",
              " Synset('digestive_system.n.01'),\n",
              " Synset('endocrine_system.n.01'),\n",
              " Synset('head.n.01'),\n",
              " Synset('leg.n.01'),\n",
              " Synset('lymphatic_system.n.01'),\n",
              " Synset('musculoskeletal_system.n.01'),\n",
              " Synset('neck.n.01'),\n",
              " Synset('nervous_system.n.01'),\n",
              " Synset('pressure_point.n.01'),\n",
              " Synset('respiratory_system.n.01'),\n",
              " Synset('sensory_system.n.02'),\n",
              " Synset('torso.n.01'),\n",
              " Synset('vascular_system.n.01')]"
            ]
          },
          "metadata": {},
          "execution_count": 316
        }
      ]
    },
    {
      "cell_type": "code",
      "source": [
        "wn.synset('pride.n.04').member_meronyms()"
      ],
      "metadata": {
        "colab": {
          "base_uri": "https://localhost:8080/",
          "height": 0
        },
        "id": "m3Y_yMj2iY1b",
        "outputId": "f9f00d75-a8f7-4127-b812-4bdedcd0f0b6"
      },
      "execution_count": 317,
      "outputs": [
        {
          "output_type": "execute_result",
          "data": {
            "text/plain": [
              "[Synset('lion.n.01')]"
            ]
          },
          "metadata": {},
          "execution_count": 317
        }
      ]
    },
    {
      "cell_type": "markdown",
      "source": [
        "**Antonyms**"
      ],
      "metadata": {
        "id": "AM8DKAylbN0m"
      }
    },
    {
      "cell_type": "markdown",
      "source": [
        "    Antonyms are opposites of the word. For example:\n",
        "    * Good is the opposite of the bad"
      ],
      "metadata": {
        "id": "5j2Zr4vpbWt6"
      }
    },
    {
      "cell_type": "code",
      "source": [
        "wn.synset('good.a.01').lemmas()[0].antonyms()"
      ],
      "metadata": {
        "colab": {
          "base_uri": "https://localhost:8080/",
          "height": 0
        },
        "id": "IhT9vDsmbuBb",
        "outputId": "0897c2af-ed90-48ea-df1c-d462bcee0960"
      },
      "execution_count": 318,
      "outputs": [
        {
          "output_type": "execute_result",
          "data": {
            "text/plain": [
              "[Lemma('bad.a.01.bad')]"
            ]
          },
          "metadata": {},
          "execution_count": 318
        }
      ]
    },
    {
      "cell_type": "markdown",
      "source": [
        "**WordNet Hierarchy (Verb)**"
      ],
      "metadata": {
        "id": "MmfbkxyueAuF"
      }
    },
    {
      "cell_type": "markdown",
      "source": [
        "2) The code below gets all the synsets of 'eat'.\n",
        "\n",
        "\n",
        "    Each synset has an ID such as 'eat.v.01'. The form of the ID is: word.pos.nn"
      ],
      "metadata": {
        "id": "fZtYQmRHe_gr"
      }
    },
    {
      "cell_type": "code",
      "source": [
        "# eat\n",
        "print(wn.synsets('eat'))\n"
      ],
      "metadata": {
        "colab": {
          "base_uri": "https://localhost:8080/",
          "height": 0
        },
        "id": "cjLTkgvihrbm",
        "outputId": "197a96b6-8e92-4036-b2ad-365d0274bc8e"
      },
      "execution_count": 319,
      "outputs": [
        {
          "output_type": "stream",
          "name": "stdout",
          "text": [
            "[Synset('eat.v.01'), Synset('eat.v.02'), Synset('feed.v.06'), Synset('eat.v.04'), Synset('consume.v.05'), Synset('corrode.v.01')]\n"
          ]
        }
      ]
    },
    {
      "cell_type": "markdown",
      "source": [
        "3) Here, I have selected 'eat.v.01' as my choice of synset to extract\n",
        "different parts of linguistics"
      ],
      "metadata": {
        "id": "6BFtJNw5fPwg"
      }
    },
    {
      "cell_type": "code",
      "source": [
        "wn.synset('eat.v.01').definition()"
      ],
      "metadata": {
        "colab": {
          "base_uri": "https://localhost:8080/",
          "height": 35
        },
        "id": "ciiR_LzxfXYX",
        "outputId": "70a1a1ae-7296-4efe-be1a-2d88435e3b41"
      },
      "execution_count": 320,
      "outputs": [
        {
          "output_type": "execute_result",
          "data": {
            "text/plain": [
              "'take in solid food'"
            ],
            "application/vnd.google.colaboratory.intrinsic+json": {
              "type": "string"
            }
          },
          "metadata": {},
          "execution_count": 320
        }
      ]
    },
    {
      "cell_type": "markdown",
      "source": [
        "    Usage examples of the synset 'eat.v.01'"
      ],
      "metadata": {
        "id": "mJUGI_RIfvHZ"
      }
    },
    {
      "cell_type": "code",
      "source": [
        "wn.synset('eat.v.01').examples()"
      ],
      "metadata": {
        "colab": {
          "base_uri": "https://localhost:8080/",
          "height": 0
        },
        "id": "J7uWE-kNf3NF",
        "outputId": "387553b2-011d-423c-d2ca-030ea162708d"
      },
      "execution_count": 321,
      "outputs": [
        {
          "output_type": "execute_result",
          "data": {
            "text/plain": [
              "['She was eating a banana', 'What did you eat for dinner last night?']"
            ]
          },
          "metadata": {},
          "execution_count": 321
        }
      ]
    },
    {
      "cell_type": "markdown",
      "source": [
        "Traversing the hierarchy using the synset 'eat.v.01'\n",
        "\n"
      ],
      "metadata": {
        "id": "-sNskciWgGRS"
      }
    },
    {
      "cell_type": "code",
      "source": [
        "eat = wn.synset('eat.v.01').hypernyms()[0]\n",
        "while eat:\n",
        "  print(eat)\n",
        "  if eat.hypernyms():\n",
        "        eat = eat.hypernyms()[0]\n",
        "  else:\n",
        "      break"
      ],
      "metadata": {
        "colab": {
          "base_uri": "https://localhost:8080/",
          "height": 0
        },
        "id": "4oYKfnpugT4X",
        "outputId": "033270a3-e515-48c5-dd38-04b4e2d75722"
      },
      "execution_count": 322,
      "outputs": [
        {
          "output_type": "stream",
          "name": "stdout",
          "text": [
            "Synset('consume.v.02')\n"
          ]
        }
      ]
    },
    {
      "cell_type": "markdown",
      "source": [
        "**Morphy**"
      ],
      "metadata": {
        "id": "f4Ls6Tt5AxZ0"
      }
    },
    {
      "cell_type": "markdown",
      "source": [
        "    Morphy gives the base word from the different form a word. For example:\n",
        "    *  ate becomes eat"
      ],
      "metadata": {
        "id": "CPKs4hjDxzQ9"
      }
    },
    {
      "cell_type": "code",
      "source": [
        "print(wn.morphy('fast', wn.NOUN))\n",
        "print(wn.morphy('fasting', wn.VERB))\n",
        "print(wn.morphy('faster', wn.ADJ))"
      ],
      "metadata": {
        "colab": {
          "base_uri": "https://localhost:8080/",
          "height": 0
        },
        "id": "8mGJt1ki5XUG",
        "outputId": "a2d67a08-0a29-4123-f1ac-6616db4f3dda"
      },
      "execution_count": 323,
      "outputs": [
        {
          "output_type": "stream",
          "name": "stdout",
          "text": [
            "fast\n",
            "fast\n",
            "fast\n"
          ]
        }
      ]
    },
    {
      "cell_type": "markdown",
      "source": [
        "**Similarity**"
      ],
      "metadata": {
        "id": "RunVplHQEuve"
      }
    },
    {
      "cell_type": "markdown",
      "source": [
        "    A similarity score between two word senses can be extracted from WordNet, where the similarity ranges from 0 (little similarity) to 1 (identity)."
      ],
      "metadata": {
        "id": "J-bIP95pyocA"
      }
    },
    {
      "cell_type": "code",
      "source": [
        "dog = wn.synset('dog.n.01')\n",
        "cat = wn.synset('cat.n.01')\n",
        "dog.path_similarity(cat)"
      ],
      "metadata": {
        "colab": {
          "base_uri": "https://localhost:8080/",
          "height": 0
        },
        "id": "oq0bMTZXE1cW",
        "outputId": "cf84c1c2-0b73-4c68-bc85-6c0eff913dab"
      },
      "execution_count": 324,
      "outputs": [
        {
          "output_type": "execute_result",
          "data": {
            "text/plain": [
              "0.2"
            ]
          },
          "metadata": {},
          "execution_count": 324
        }
      ]
    },
    {
      "cell_type": "markdown",
      "source": [
        "**Wu_Parmer**"
      ],
      "metadata": {
        "id": "bnqNJNxnJJ5b"
      }
    },
    {
      "cell_type": "code",
      "source": [
        "wn.wup_similarity(cat, dog)"
      ],
      "metadata": {
        "colab": {
          "base_uri": "https://localhost:8080/",
          "height": 0
        },
        "id": "6BgpjzRIJOkg",
        "outputId": "d24270f0-395d-461e-c090-b1f7184a28f5"
      },
      "execution_count": 325,
      "outputs": [
        {
          "output_type": "execute_result",
          "data": {
            "text/plain": [
              "0.8571428571428571"
            ]
          },
          "metadata": {},
          "execution_count": 325
        }
      ]
    },
    {
      "cell_type": "markdown",
      "source": [
        "**Lesk Algorithm**"
      ],
      "metadata": {
        "id": "_GRCGJ360ihc"
      }
    },
    {
      "cell_type": "code",
      "source": [
        "from nltk.wsd import lesk\n"
      ],
      "metadata": {
        "id": "AqOlxXmurLOe"
      },
      "execution_count": 326,
      "outputs": []
    },
    {
      "cell_type": "markdown",
      "source": [
        "    The Lesk algorithm is a technique used in natural language processing to disambiguate the meaning of words in a sentence."
      ],
      "metadata": {
        "id": "_RxLOizizWKc"
      }
    },
    {
      "cell_type": "code",
      "source": [
        "sent = ['I', 'have', 'two', 'pets', ',', 'a', 'dog', 'and', 'a', 'cat', '.']\n",
        "print(lesk(sent, 'cat', 'n'))"
      ],
      "metadata": {
        "colab": {
          "base_uri": "https://localhost:8080/",
          "height": 0
        },
        "id": "xeXVRoBMJ2uz",
        "outputId": "82540e38-03f7-4ffd-8ed0-0de55a343b23"
      },
      "execution_count": 327,
      "outputs": [
        {
          "output_type": "stream",
          "name": "stdout",
          "text": [
            "Synset('caterpillar.n.02')\n"
          ]
        }
      ]
    },
    {
      "cell_type": "code",
      "source": [
        "# look at the definitions for 'ball'\n",
        "for l in wn.synsets('ball'):\n",
        "    print(l, l.definition())"
      ],
      "metadata": {
        "colab": {
          "base_uri": "https://localhost:8080/",
          "height": 0
        },
        "id": "gk4hCqNrOgZ3",
        "outputId": "c908b547-cec0-47d5-82a4-feef107cc75f"
      },
      "execution_count": 328,
      "outputs": [
        {
          "output_type": "stream",
          "name": "stdout",
          "text": [
            "Synset('ball.n.01') round object that is hit or thrown or kicked in games\n",
            "Synset('musket_ball.n.01') a solid projectile that is shot by a musket\n",
            "Synset('ball.n.03') an object with a spherical shape\n",
            "Synset('ball.n.04') the people assembled at a lavish formal dance\n",
            "Synset('testis.n.01') one of the two male reproductive glands that produce spermatozoa and secrete androgens\n",
            "Synset('ball.n.06') a spherical object used as a plaything\n",
            "Synset('ball.n.07') United States comedienne best known as the star of a popular television program (1911-1989)\n",
            "Synset('ball.n.08') a compact mass\n",
            "Synset('ball.n.09') a lavish dance requiring formal attire\n",
            "Synset('ball.n.10') a more or less rounded anatomical body or mass\n",
            "Synset('ball.n.11') the game of baseball\n",
            "Synset('ball.n.12') a pitch that is not in the strike zone\n",
            "Synset('ball.v.01') form into a ball by winding or rolling\n"
          ]
        }
      ]
    },
    {
      "cell_type": "markdown",
      "source": [
        "# SentiWordNet"
      ],
      "metadata": {
        "id": "FTgOdKa_PS04"
      }
    },
    {
      "cell_type": "markdown",
      "source": [
        "    SentiWordNet is a lexical resource for natural language processing that provides a sentiment score for each word in a corpus. The positivity and negativity scores range from 0 to 1, with 0 indicating no sentiment and 1 indicating very strong sentiment. The objectivity score indicates the degree to which the word is neutral and ranges from 0 to 1."
      ],
      "metadata": {
        "id": "GxflDalb1cmh"
      }
    },
    {
      "cell_type": "code",
      "source": [
        "# dependencies\n",
        "from nltk.corpus import sentiwordnet as swn"
      ],
      "metadata": {
        "id": "TXyHiGWW1D9K"
      },
      "execution_count": 329,
      "outputs": []
    },
    {
      "cell_type": "markdown",
      "source": [
        "    Here, I have chosen 'sadness.n.02' as an emotionally charged word's synset."
      ],
      "metadata": {
        "id": "IiRuQH271kve"
      }
    },
    {
      "cell_type": "code",
      "source": [
        "sadness = swn.senti_synset('sadness.n.02')\n",
        "print(sadness)\n",
        "print(\"Positive score = \", sadness.pos_score())\n",
        "print(\"Negative score = \", sadness.neg_score())\n",
        "print(\"Objective score = \", sadness.obj_score())"
      ],
      "metadata": {
        "colab": {
          "base_uri": "https://localhost:8080/",
          "height": 0
        },
        "id": "QCHEkb2OPWB8",
        "outputId": "5d1e7209-ef70-44d9-c4e6-049e07835c00"
      },
      "execution_count": 330,
      "outputs": [
        {
          "output_type": "stream",
          "name": "stdout",
          "text": [
            "<sadness.n.02: PosScore=0.0 NegScore=0.625>\n",
            "Positive score =  0.0\n",
            "Negative score =  0.625\n",
            "Objective score =  0.375\n"
          ]
        }
      ]
    },
    {
      "cell_type": "markdown",
      "source": [
        "    Here, I have chosen a sentence \"I want to like my dogs\" and it polarity results are leaning towards negative."
      ],
      "metadata": {
        "id": "DgAxz-m42QI8"
      }
    },
    {
      "cell_type": "code",
      "source": [
        "sent = 'I want to like my dogs'\n",
        "neg = 0\n",
        "pos = 0\n",
        "tokens = sent.split()\n",
        "for token in tokens:\n",
        "    syn_list = list(swn.senti_synsets(token))\n",
        "    if syn_list:\n",
        "        syn = syn_list[0]\n",
        "        neg += syn.neg_score()\n",
        "        pos += syn.pos_score()\n",
        "    \n",
        "print(\"neg\\t pos\")\n",
        "print(neg, '\\t', pos)"
      ],
      "metadata": {
        "colab": {
          "base_uri": "https://localhost:8080/",
          "height": 0
        },
        "id": "S_xHr6BqSyYb",
        "outputId": "95dc9a8f-ba6a-4c3c-a442-218b30b13bf9"
      },
      "execution_count": 331,
      "outputs": [
        {
          "output_type": "stream",
          "name": "stdout",
          "text": [
            "neg\t pos\n",
            "0.25 \t 0.125\n"
          ]
        }
      ]
    },
    {
      "cell_type": "markdown",
      "source": [
        "# Collections"
      ],
      "metadata": {
        "id": "AqNw0TuNTXWD"
      }
    },
    {
      "cell_type": "markdown",
      "source": [
        "    In the Natural Language Toolkit (NLTK), collections is a module that provides a set of high-performance data structures for working with collections of items. "
      ],
      "metadata": {
        "id": "rt_ew_6m3rM1"
      }
    },
    {
      "cell_type": "code",
      "source": [
        "import nltk\n",
        "nltk.download('stopwords')\n",
        "from nltk.book import * \n",
        "text4"
      ],
      "metadata": {
        "colab": {
          "base_uri": "https://localhost:8080/",
          "height": 0
        },
        "id": "mmEh8eYfUx8U",
        "outputId": "1a158263-5bcb-4b66-f99a-61b0510fed77"
      },
      "execution_count": 332,
      "outputs": [
        {
          "output_type": "stream",
          "name": "stderr",
          "text": [
            "[nltk_data] Downloading package stopwords to /root/nltk_data...\n",
            "[nltk_data]   Package stopwords is already up-to-date!\n"
          ]
        },
        {
          "output_type": "execute_result",
          "data": {
            "text/plain": [
              "<Text: Inaugural Address Corpus>"
            ]
          },
          "metadata": {},
          "execution_count": 332
        }
      ]
    },
    {
      "cell_type": "code",
      "source": [
        "# get collocations\n",
        "text4.collocations()"
      ],
      "metadata": {
        "colab": {
          "base_uri": "https://localhost:8080/",
          "height": 0
        },
        "id": "qNBPfevuVTx4",
        "outputId": "aacb9d96-2132-41f6-f2ce-34832e2b7256"
      },
      "execution_count": 333,
      "outputs": [
        {
          "output_type": "stream",
          "name": "stdout",
          "text": [
            "United States; fellow citizens; years ago; four years; Federal\n",
            "Government; General Government; American people; Vice President; God\n",
            "bless; Chief Justice; one another; fellow Americans; Old World;\n",
            "Almighty God; Fellow citizens; Chief Magistrate; every citizen; Indian\n",
            "tribes; public debt; foreign nations\n"
          ]
        }
      ]
    },
    {
      "cell_type": "markdown",
      "source": [
        "# Mutual Information"
      ],
      "metadata": {
        "id": "seSLeet1V3N3"
      }
    },
    {
      "cell_type": "markdown",
      "source": [
        "    Here, I calculate mutual information for a couple of the collocations that NLTK identified. Recall that mutual information is the log of the probability:\n",
        "\n",
        "P(x,y) / [P(x) * P(y)]"
      ],
      "metadata": {
        "id": "xBukxl-44Ro-"
      }
    },
    {
      "cell_type": "code",
      "source": [
        "text = ' '.join(text4.tokens)\n",
        "text[:50]"
      ],
      "metadata": {
        "colab": {
          "base_uri": "https://localhost:8080/",
          "height": 35
        },
        "id": "GOMwxnxxV6S9",
        "outputId": "f3b1b832-bfe3-43eb-b2a2-11f70ddd7353"
      },
      "execution_count": 334,
      "outputs": [
        {
          "output_type": "execute_result",
          "data": {
            "text/plain": [
              "'Fellow - Citizens of the Senate and of the House o'"
            ],
            "application/vnd.google.colaboratory.intrinsic+json": {
              "type": "string"
            }
          },
          "metadata": {},
          "execution_count": 334
        }
      ]
    },
    {
      "cell_type": "markdown",
      "source": [
        "    Mutual information is a statistical measure used in natural language processing to identify the strength of the association between two terms in a corpus of text. \n",
        "    \n",
        "    It measures the amount of information that is shared between two terms, indicating how much one term can tell us about the other."
      ],
      "metadata": {
        "id": "uOE9CL464btA"
      }
    },
    {
      "cell_type": "code",
      "source": [
        "import math\n",
        "vocab = len(set(text6))\n",
        "hg = text.count('Almighty God')/vocab\n",
        "print(\"p(Almighty God) = \",hg )\n",
        "h = text.count('Almighty')/vocab\n",
        "print(\"p(Almighty) = \", h)\n",
        "g = text.count('God')/vocab\n",
        "print('p(God) = ', g)\n",
        "pmi = math.log2(hg/(h * g))\n",
        "print('pmi = ', pmi)"
      ],
      "metadata": {
        "colab": {
          "base_uri": "https://localhost:8080/",
          "height": 0
        },
        "id": "nEeDwBDcWK9T",
        "outputId": "46de8d86-fc9e-4c9d-8360-7fc937fd6d42"
      },
      "execution_count": 335,
      "outputs": [
        {
          "output_type": "stream",
          "name": "stdout",
          "text": [
            "p(Almighty God) =  0.006925207756232687\n",
            "p(Almighty) =  0.012927054478301015\n",
            "p(God) =  0.05170821791320406\n",
            "pmi =  3.3729982791016377\n"
          ]
        }
      ]
    }
  ]
}